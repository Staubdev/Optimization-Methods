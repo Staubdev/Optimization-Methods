{
 "cells": [
  {
   "cell_type": "code",
   "execution_count": 52,
   "metadata": {
    "collapsed": true
   },
   "outputs": [],
   "source": [
    "import numpy as np\n",
    "from sympy import ordered, Matrix, hessian, lambdify\n",
    "from sympy.abc import x, y\n",
    "import matplotlib.pyplot as plt"
   ]
  },
  {
   "cell_type": "code",
   "execution_count": 50,
   "outputs": [],
   "source": [
    "# use sympy to return a lambda function for the gradient and hessian of an equation\n",
    "def compute_gradient_hessian(eq, *args):\n",
    "    f = eq(*args)\n",
    "    vars = list(ordered(f.free_symbols))\n",
    "\n",
    "    gradient = lambda func, vars : Matrix([func]).jacobian(vars)\n",
    "\n",
    "    grad_lambda = lambda x : lambdify(vars, gradient(f, vars))(*x).flatten()\n",
    "    hess_lambda = lambda x : lambdify(vars, hessian(f, vars))(*x)\n",
    "\n",
    "    return grad_lambda, hess_lambda\n",
    "\n",
    "def quadratic_model(f_k, grad_k, hess_k):\n",
    "    return lambda p : f_k + p.dot(grad_k) + 0.5 * p.dot(hess_k).dot(p)\n",
    "\n",
    "# return the positive root of Tau using the quadratic formula\n",
    "def find_tau(z_j, d_j, radius):\n",
    "    a = z_j.dot(z_j)\n",
    "    b = z_j.dot(d_j)\n",
    "    c = d_j.dot(d_j)\n",
    "    return (np.sqrt(c*(radius**2 - a) + b**2) - b) / c\n",
    "\n",
    "# page 171 in Nocedal\n",
    "# find Tau directly by using the quadratic formula\n",
    "def steihaug(radius, grad_k, hess_k, eps=1e-8):\n",
    "    z_j = np.zeros(grad_k.size)\n",
    "    r_j = np.copy(grad_k)\n",
    "    d_j = -np.copy(grad_k)\n",
    "\n",
    "    if np.linalg.norm(grad_k) < eps:\n",
    "        return z_j\n",
    "\n",
    "    while True:\n",
    "        dBd = d_j.dot(hess_k).dot(d_j)\n",
    "\n",
    "        # Negative curvature condition\n",
    "        if dBd <= 0:\n",
    "            # return the intersection of the current direction with the trust-region boundary\n",
    "            return z_j + find_tau(z_j, d_j, radius) * d_j\n",
    "\n",
    "        alpha_j = (r_j.dot(r_j)) / dBd\n",
    "        z_old = np.copy(z_j)\n",
    "        z_j += alpha_j * d_j\n",
    "\n",
    "        # Trust region condition\n",
    "        if np.linalg.norm(z_j) >= radius:\n",
    "            # return the intersection of the current direction with the trust-region boundary\n",
    "            return z_j + find_tau(z_j, d_j, radius) * d_j\n",
    "\n",
    "        r_old = np.copy(r_j)\n",
    "        r_j += alpha_j * hess_k.dot(d_j)\n",
    "\n",
    "        # Stopping condition\n",
    "        if np.linalg.norm(r_j) < eps:\n",
    "            return z_j\n",
    "\n",
    "        beta_j = (r_j.dot(r_j)) / (r_old.dot(r_old))\n",
    "        d_j = beta_j * d_j - r_j\n",
    "\n",
    "\n",
    "\n",
    "# n must be between 0 and 0.25\n",
    "# from Nocedal page 69\n",
    "def trust_region(f, f_grad, f_hess, x_0, tol=1e-15, model=quadratic_model, radius_0=1.0, radius_max=300.0, n=1e-3):\n",
    "    k = 0\n",
    "    x_k = x_0\n",
    "    radius = radius_0\n",
    "\n",
    "    # evaluate function, gradient, hessian, and model function at x_k\n",
    "    f_k = f(x_k)\n",
    "    grad_k = f_grad(x_k)\n",
    "    hess_k = f_hess(x_k)\n",
    "    model_k = model(f_k, grad_k, hess_k)\n",
    "\n",
    "    error = []\n",
    "    error.append(np.linalg.norm(np.subtract(x_0, [1,1])))\n",
    "\n",
    "    while np.linalg.norm(f_grad(x_k)) > tol:\n",
    "        # solve subproblem using Steihaug's Method\n",
    "        p_k = steihaug(radius, grad_k, hess_k)\n",
    "\n",
    "        # evaluate agreement between model function and actual function\n",
    "        rho_k = (f(x_k) - f(x_k + p_k)) / (f(x_k) - model_k(p_k))\n",
    "\n",
    "        if rho_k < 0.25:\n",
    "            # poor approximation so shrink the trust-radius\n",
    "            radius = 0.25 * radius\n",
    "        elif rho_k > 0.75 and np.abs(np.linalg.norm(p_k) - radius) < tol:\n",
    "            # good approximation and a full-step (within tolerance) was taken, expand trust_radius\n",
    "            radius = min(2 * radius, radius_max)\n",
    "        # otherwise leave the radius unchanged\n",
    "\n",
    "        # if approximation was good, update x to the new step. Otherwise leave x unchanged\n",
    "        if rho_k > n:\n",
    "            x_k = x_k + p_k\n",
    "\n",
    "            # update function evaluation, gradient, hessian, and model function at x_k+1\n",
    "            f_k = f(x_k)\n",
    "            grad_k = f_grad(x_k)\n",
    "            hess_k = f_hess(x_k)\n",
    "            model_k = model(f_k, grad_k, hess_k)\n",
    "\n",
    "        k += 1\n",
    "\n",
    "        error.append(np.linalg.norm(np.subtract(x_k, [1, 1])))\n",
    "\n",
    "\n",
    "        if np.linalg.norm(p_k) < tol:\n",
    "            break\n",
    "\n",
    "    return [x_k, k, error]\n"
   ],
   "metadata": {
    "collapsed": false,
    "pycharm": {
     "name": "#%%\n"
    }
   }
  },
  {
   "cell_type": "code",
   "execution_count": 53,
   "outputs": [
    {
     "name": "stderr",
     "output_type": "stream",
     "text": [
      "/var/folders/2m/pnw5mkds7jlbndvtgss60thc0000gn/T/ipykernel_98946/2940523574.py:83: RuntimeWarning: invalid value encountered in double_scalars\n",
      "  rho_k = (f(x_k) - f(x_k + p_k)) / (f(x_k) - model_k(p_k))\n"
     ]
    },
    {
     "data": {
      "text/plain": "[<matplotlib.lines.Line2D at 0x13f96a5b0>]"
     },
     "execution_count": 53,
     "metadata": {},
     "output_type": "execute_result"
    },
    {
     "data": {
      "text/plain": "<Figure size 432x288 with 1 Axes>",
      "image/png": "[encoded data removed]"
     },
     "metadata": {
      "needs_background": "light"
     },
     "output_type": "display_data"
    }
   ],
   "source": [
    "# Rosenbrock function\n",
    "a = 1\n",
    "b = 100\n",
    "rosenbrock = lambda x : (a-x[0])**2 + b*(x[1]-x[0]**2)**2\n",
    "\n",
    "rosen_grad, rosen_hess = compute_gradient_hessian(rosenbrock, [x, y])\n",
    "\n",
    "res = trust_region(rosenbrock, rosen_grad, rosen_hess, [5, 5])\n",
    "\n",
    "plt.plot(res[2])\n",
    "\n",
    "#"
   ],
   "metadata": {
    "collapsed": false,
    "pycharm": {
     "name": "#%%\n"
    }
   }
  },
  {
   "cell_type": "code",
   "execution_count": 54,
   "outputs": [
    {
     "data": {
      "text/plain": "array([1., 1.])"
     },
     "execution_count": 54,
     "metadata": {},
     "output_type": "execute_result"
    }
   ],
   "source": [
    "res[0]"
   ],
   "metadata": {
    "collapsed": false,
    "pycharm": {
     "name": "#%%\n"
    }
   }
  },
  {
   "cell_type": "code",
   "execution_count": null,
   "outputs": [],
   "source": [],
   "metadata": {
    "collapsed": false,
    "pycharm": {
     "name": "#%%\n"
    }
   }
  }
 ],
 "metadata": {
  "kernelspec": {
   "display_name": "Python 3",
   "language": "python",
   "name": "python3"
  },
  "language_info": {
   "codemirror_mode": {
    "name": "ipython",
    "version": 2
   },
   "file_extension": ".py",
   "mimetype": "text/x-python",
   "name": "python",
   "nbconvert_exporter": "python",
   "pygments_lexer": "ipython2",
   "version": "2.7.6"
  }
 },
 "nbformat": 4,
 "nbformat_minor": 0
}